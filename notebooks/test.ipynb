{
 "cells": [
  {
   "cell_type": "code",
   "execution_count": 1,
   "metadata": {
    "collapsed": true
   },
   "outputs": [],
   "source": [
    "import torch"
   ]
  },
  {
   "cell_type": "code",
   "execution_count": 9,
   "outputs": [
    {
     "name": "stdout",
     "output_type": "stream",
     "text": [
      "tensor([[ 0,  1,  2,  3,  4,  5,  6,  7,  8,  9],\n",
      "        [-1,  0,  1,  2,  3,  4,  5,  6,  7,  8],\n",
      "        [-2, -1,  0,  1,  2,  3,  4,  5,  6,  7],\n",
      "        [-3, -2, -1,  0,  1,  2,  3,  4,  5,  6],\n",
      "        [-4, -3, -2, -1,  0,  1,  2,  3,  4,  5]])\n"
     ]
    }
   ],
   "source": [
    "w = 10\n",
    "h = 5\n",
    "Pw = torch.arange(w)\n",
    "Ph = torch.arange(h)*(-1)\n",
    "P = (Ph.repeat_interleave(len(Pw))+Pw.repeat(len(Ph))).reshape(len(Ph),len(Pw))\n",
    "print(P)"
   ],
   "metadata": {
    "collapsed": false,
    "pycharm": {
     "name": "#%%\n"
    }
   }
  },
  {
   "cell_type": "code",
   "execution_count": 13,
   "outputs": [],
   "source": [],
   "metadata": {
    "collapsed": false,
    "pycharm": {
     "name": "#%%\n"
    }
   }
  }
 ],
 "metadata": {
  "kernelspec": {
   "display_name": "Python 3",
   "language": "python",
   "name": "python3"
  },
  "language_info": {
   "codemirror_mode": {
    "name": "ipython",
    "version": 2
   },
   "file_extension": ".py",
   "mimetype": "text/x-python",
   "name": "python",
   "nbconvert_exporter": "python",
   "pygments_lexer": "ipython2",
   "version": "2.7.6"
  }
 },
 "nbformat": 4,
 "nbformat_minor": 0
}